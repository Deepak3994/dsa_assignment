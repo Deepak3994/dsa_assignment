{
 "cells": [
  {
   "cell_type": "code",
   "execution_count": 50,
   "metadata": {
    "collapsed": false
   },
   "outputs": [],
   "source": [
    "class linked_list:\n",
    "    class _node:\n",
    "        __slots__ = '_element','_next'\n",
    "        def __init__(self,element,next):\n",
    "            self._element = element\n",
    "            self._next = next\n",
    "    def __init__(self):\n",
    "        self._head = None\n",
    "        self._size = 0\n",
    "    def push(self,e):\n",
    "        self._head = self._node(e,self._head)\n",
    "        self._size+=1\n",
    "    def length(self):\n",
    "        return self._size\n",
    "    def top(self):\n",
    "        return self._head._element\n",
    "    def is_empty(self):\n",
    "        return self._head._element == 0\n",
    "    def pop(self):\n",
    "        if self.is_empty():\n",
    "            return 0\n",
    "        answer = self._head._element\n",
    "        self._head = self._head._next\n",
    "        self._size-=1\n",
    "        return answer\n",
    "    def display(self):\n",
    "        print(self._head._element)\n",
    "\n",
    "        "
   ]
  },
  {
   "cell_type": "code",
   "execution_count": 51,
   "metadata": {
    "collapsed": false
   },
   "outputs": [
    {
     "name": "stdout",
     "output_type": "stream",
     "text": [
      "20\n",
      "10\n"
     ]
    }
   ],
   "source": [
    "if __name__ == '__main__':\n",
    "    l = linked_list()\n",
    "    l.push(10)\n",
    "    l.push(20)\n",
    "    l.display()\n",
    "    l.pop()\n",
    "    l.display()\n",
    "    "
   ]
  },
  {
   "cell_type": "code",
   "execution_count": null,
   "metadata": {
    "collapsed": true
   },
   "outputs": [],
   "source": []
  }
 ],
 "metadata": {
  "anaconda-cloud": {},
  "kernelspec": {
   "display_name": "Python [Root]",
   "language": "python",
   "name": "Python [Root]"
  },
  "language_info": {
   "codemirror_mode": {
    "name": "ipython",
    "version": 3
   },
   "file_extension": ".py",
   "mimetype": "text/x-python",
   "name": "python",
   "nbconvert_exporter": "python",
   "pygments_lexer": "ipython3",
   "version": "3.5.2"
  }
 },
 "nbformat": 4,
 "nbformat_minor": 0
}
