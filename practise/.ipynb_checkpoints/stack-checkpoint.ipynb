{
 "cells": [
  {
   "cell_type": "code",
   "execution_count": 101,
   "metadata": {
    "collapsed": false
   },
   "outputs": [],
   "source": [
    "class stack:\n",
    "    def __init__(self):\n",
    "        self._data = []\n",
    "        #self._size = size\n",
    "    def is_empty(self):\n",
    "        return self._data == []\n",
    "    def push(self,x):\n",
    "        #if len(self._data)>=self._size:\n",
    "         #   print(\"Overflow\")\n",
    "        #else:\n",
    "         self._data.append(x)\n",
    "    def pop(self):\n",
    "        if self.is_empty():\n",
    "            print(\"Stack is empty\")\n",
    "        else:\n",
    "            return self._data.pop()\n",
    "    def top(self):\n",
    "        print(self._data[-1])\n",
    "    def display(self):\n",
    "        print(self._data)\n",
    "        \n",
    "    def stck(self,t):\n",
    "        for x in range(len(self._data)):\n",
    "            temp.push(self._data.pop())\n",
    "            \n",
    "    def rev(self,a):\n",
    "        for x in range(len(self._data)):\n",
    "            s.push(temp.pop())\n",
    "        \n",
    "        \n",
    "        "
   ]
  },
  {
   "cell_type": "code",
   "execution_count": 105,
   "metadata": {
    "collapsed": false
   },
   "outputs": [
    {
     "name": "stdout",
     "output_type": "stream",
     "text": [
      "[1, 2, 3]\n",
      "[4, 5]\n",
      "[6, 7, 8, 9]\n",
      "[5, 4, 9, 8, 7, 6]\n",
      "[6, 7, 8, 9, 4, 5]\n"
     ]
    }
   ],
   "source": [
    "if __name__ == '__main__':\n",
    "    s = stack()\n",
    "    t = stack()\n",
    "    r = stack()\n",
    "    temp = stack()\n",
    "    r.push(1)\n",
    "    r.push(2)\n",
    "    r.push(3)\n",
    "    r.display()\n",
    "    s.push(4)\n",
    "    s.push(5)\n",
    "    s.display()\n",
    "    t.push(6)\n",
    "    t.push(7)\n",
    "    t.push(8)\n",
    "    t.push(9)\n",
    "    t.display()\n",
    "    s.stck(temp)\n",
    "    t.stck(temp)\n",
    "    temp.display()\n",
    "    temp.rev(s)\n",
    "    s.display()\n",
    "    \n",
    "    \n",
    "    \n",
    "    \n",
    "    #s.stck(t)\n",
    "    #t.display()\n",
    "    #s.display()\n",
    "    \n",
    "    \n",
    "    "
   ]
  }
 ],
 "metadata": {
  "kernelspec": {
   "display_name": "Python [Root]",
   "language": "python",
   "name": "Python [Root]"
  },
  "language_info": {
   "codemirror_mode": {
    "name": "ipython",
    "version": 3
   },
   "file_extension": ".py",
   "mimetype": "text/x-python",
   "name": "python",
   "nbconvert_exporter": "python",
   "pygments_lexer": "ipython3",
   "version": "3.5.2"
  }
 },
 "nbformat": 4,
 "nbformat_minor": 0
}
