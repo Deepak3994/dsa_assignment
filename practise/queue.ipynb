{
 "cells": [
  {
   "cell_type": "code",
   "execution_count": 86,
   "metadata": {
    "collapsed": true
   },
   "outputs": [],
   "source": [
    "class queue:\n",
    "    def __init__(self):\n",
    "        self._data = []\n",
    "    def is_empty(self):\n",
    "        return self._data == []\n",
    "    def enqueue(self,e):\n",
    "        self._data.insert(0,e)\n",
    "    def dequeue(self):\n",
    "        if self.is_empty():\n",
    "            print(\"Empty\")\n",
    "        else:\n",
    "            return t.enqueue(self._data.pop())\n",
    "    def __len__(item):\n",
    "        return len(self._data)\n",
    "    def display(self):\n",
    "        print(self._data)\n",
    "    def rotate(self):\n",
    "        for i in range(len(self._data)):\n",
    "            self.enqueue(self._data.pop())\n",
    "            print(self._data)\n",
    "        "
   ]
  },
  {
   "cell_type": "code",
   "execution_count": 89,
   "metadata": {
    "collapsed": false
   },
   "outputs": [
    {
     "name": "stdout",
     "output_type": "stream",
     "text": [
      "[5, 4, 3, 2, 1]\n",
      "[2, 1]\n"
     ]
    }
   ],
   "source": [
    "if __name__ == '__main__':\n",
    "    q = queue()\n",
    "    t = queue()\n",
    "    q.enqueue(1)\n",
    "    q.enqueue(2)\n",
    "    q.enqueue(3)\n",
    "    q.enqueue(4)\n",
    "    q.enqueue(5)\n",
    "    q.display()\n",
    "    q.dequeue()\n",
    "    q.dequeue()\n",
    "    t.display()\n",
    "    \n",
    "    \n",
    "   "
   ]
  },
  {
   "cell_type": "code",
   "execution_count": null,
   "metadata": {
    "collapsed": true
   },
   "outputs": [],
   "source": []
  }
 ],
 "metadata": {
  "kernelspec": {
   "display_name": "Python [Root]",
   "language": "python",
   "name": "Python [Root]"
  },
  "language_info": {
   "codemirror_mode": {
    "name": "ipython",
    "version": 3
   },
   "file_extension": ".py",
   "mimetype": "text/x-python",
   "name": "python",
   "nbconvert_exporter": "python",
   "pygments_lexer": "ipython3",
   "version": "3.5.2"
  }
 },
 "nbformat": 4,
 "nbformat_minor": 0
}
